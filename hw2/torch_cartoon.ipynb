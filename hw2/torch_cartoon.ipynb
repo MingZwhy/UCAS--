{
 "cells": [
  {
   "cell_type": "code",
   "execution_count": 1,
   "id": "c2fa31e5",
   "metadata": {
    "ExecuteTime": {
     "end_time": "2023-05-09T17:47:38.934813Z",
     "start_time": "2023-05-09T17:47:37.321652Z"
    }
   },
   "outputs": [],
   "source": [
    "import torch\n",
    "from torch import nn\n",
    "from torch.utils.data import Dataset, DataLoader\n",
    "\n",
    "import os\n",
    "import cv2\n",
    "import numpy as np\n",
    "from tqdm import tqdm\n",
    "import matplotlib.pyplot as plt\n",
    "\n",
    "%matplotlib inline"
   ]
  },
  {
   "cell_type": "code",
   "execution_count": 2,
   "id": "b1b15205",
   "metadata": {
    "ExecuteTime": {
     "end_time": "2023-05-09T17:47:47.538227Z",
     "start_time": "2023-05-09T17:47:46.197736Z"
    }
   },
   "outputs": [],
   "source": [
    "device = torch.device(\"cuda\" if torch.cuda.is_available() else \"cpu\")"
   ]
  },
  {
   "cell_type": "code",
   "execution_count": 32,
   "id": "95a9f227",
   "metadata": {
    "ExecuteTime": {
     "end_time": "2023-05-09T17:47:50.274499Z",
     "start_time": "2023-05-09T17:47:50.250186Z"
    }
   },
   "outputs": [],
   "source": [
    "dir_path = \"/root/autodl-tmp/hw2/\"\n",
    "\n",
    "class PairedData(Dataset):\n",
    "    def __init__(self, phase):\n",
    "        super(PairedData, self).__init__() \n",
    "        self.img_path_list = self.load_img_data(phase)     # 获取数据列表\n",
    "        self.label_path_list = self.load_label_data(phase)  # 获取label列表\n",
    "        self.num_samples = len(self.img_path_list)                 # 数据量\n",
    "\n",
    "    def __getitem__(self, idx):\n",
    "        face = cv2.imread(self.img_path_list[idx])     # 读取数据\n",
    "        face = cv2.resize(face, (256,256))\n",
    "        face = face.astype('float32') / 127.5 - 1.     # 归一化\n",
    "        face = face.transpose(2, 0, 1)                 # HWC -> CHW\n",
    "\n",
    "        cartoon = cv2.imread(self.label_path_list[idx])      # 读取数据\n",
    "        cartoon = cartoon.astype('float32') / 127.5 - 1.     # 归一化\n",
    "        cartoon = cartoon.transpose(2, 0, 1)                 # HWC -> CHW\n",
    "        \n",
    "        return torch.from_numpy(face), torch.from_numpy(cartoon)\n",
    "\n",
    "    def __len__(self):\n",
    "        return self.num_samples\n",
    "\n",
    "    @staticmethod\n",
    "    def load_img_data(phase):\n",
    "        assert phase in ['train', 'test'], \"phase1 should be set within ['train', 'test']\"\n",
    "        data_path = dir_path + \"datasets/\" + phase + \"A/\"\n",
    "        all_list =  [os.path.join(data_path, x) for x in os.listdir(data_path)]\n",
    "        print(all_list[:5])\n",
    "\n",
    "        if phase == 'train':\n",
    "            return all_list[:1500]\n",
    "        else:\n",
    "            return all_list[:150]\n",
    "        \n",
    "    @staticmethod\n",
    "    def load_label_data(phase):\n",
    "        assert phase in ['train', 'test'], \"phase1 should be set within ['train', 'test']\"\n",
    "        data_path = dir_path + \"datasets/\" + phase + \"B/\"\n",
    "        all_list =  [os.path.join(data_path, x) for x in os.listdir(data_path)]\n",
    "        print(all_list[:5])\n",
    "\n",
    "        if phase == 'train':\n",
    "            return all_list[:1500]\n",
    "        else:\n",
    "            return all_list[:150]"
   ]
  },
  {
   "cell_type": "code",
   "execution_count": 33,
   "id": "12c371c9",
   "metadata": {
    "ExecuteTime": {
     "end_time": "2023-05-09T17:47:52.401291Z",
     "start_time": "2023-05-09T17:47:52.344059Z"
    }
   },
   "outputs": [
    {
     "name": "stdout",
     "output_type": "stream",
     "text": [
      "['/root/autodl-tmp/hw2/datasets/trainA/0.png', '/root/autodl-tmp/hw2/datasets/trainA/10.png', '/root/autodl-tmp/hw2/datasets/trainA/100.png', '/root/autodl-tmp/hw2/datasets/trainA/1000.png', '/root/autodl-tmp/hw2/datasets/trainA/1001.png']\n",
      "['/root/autodl-tmp/hw2/datasets/trainB/10.png', '/root/autodl-tmp/hw2/datasets/trainB/0.png', '/root/autodl-tmp/hw2/datasets/trainB/100.png', '/root/autodl-tmp/hw2/datasets/trainB/1000.png', '/root/autodl-tmp/hw2/datasets/trainB/1001.png']\n",
      "['/root/autodl-tmp/hw2/datasets/testA/5002.png', '/root/autodl-tmp/hw2/datasets/testA/5001.png', '/root/autodl-tmp/hw2/datasets/testA/5003.png', '/root/autodl-tmp/hw2/datasets/testA/5004.png', '/root/autodl-tmp/hw2/datasets/testA/5005.png']\n",
      "['/root/autodl-tmp/hw2/datasets/testB/5001.png', '/root/autodl-tmp/hw2/datasets/testB/5002.png', '/root/autodl-tmp/hw2/datasets/testB/5003.png', '/root/autodl-tmp/hw2/datasets/testB/5004.png', '/root/autodl-tmp/hw2/datasets/testB/5005.png']\n"
     ]
    }
   ],
   "source": [
    "paired_dataset_train = PairedData('train')\n",
    "paired_dataset_test = PairedData('test')"
   ]
  },
  {
   "cell_type": "code",
   "execution_count": 34,
   "id": "7e17fe45",
   "metadata": {
    "ExecuteTime": {
     "end_time": "2023-05-09T17:47:57.291856Z",
     "start_time": "2023-05-09T17:47:57.276308Z"
    }
   },
   "outputs": [],
   "source": [
    "class Downsample(nn.Module):\n",
    "    # LeakyReLU => conv => batch norm\n",
    "    def __init__(self, in_dim, out_dim, kernel_size=4, stride=2, padding=1):\n",
    "        super(Downsample, self).__init__()\n",
    "\n",
    "        self.layers = nn.Sequential(\n",
    "            nn.LeakyReLU(0.2),\n",
    "            nn.Conv2d(in_dim, out_dim, kernel_size, stride, padding, bias=False),\n",
    "            nn.BatchNorm2d(out_dim)\n",
    "        )\n",
    "\n",
    "    def forward(self, x):\n",
    "        x = self.layers(x)\n",
    "        return x\n",
    "\n",
    "\n",
    "class Upsample(nn.Module):\n",
    "    # ReLU => deconv => batch norm => dropout\n",
    "    def __init__(self, in_dim, out_dim, kernel_size=4, stride=2, padding=1, use_dropout=False):\n",
    "        super(Upsample, self).__init__()\n",
    "\n",
    "        sequence = [\n",
    "            nn.ReLU(),\n",
    "            nn.ConvTranspose2d(in_dim, out_dim, kernel_size, stride, padding, bias=False),\n",
    "            nn.BatchNorm2d(out_dim)\n",
    "        ]\n",
    "\n",
    "        if use_dropout:\n",
    "            sequence.append(nn.Dropout(p=0.5))\n",
    "\n",
    "        self.layers = nn.Sequential(*sequence)\n",
    "\n",
    "    def forward(self, x, skip):\n",
    "        x = self.layers(x)\n",
    "        x = torch.cat([x, skip], dim=1)\n",
    "        return x"
   ]
  },
  {
   "cell_type": "code",
   "execution_count": 35,
   "id": "78d2ac78",
   "metadata": {
    "ExecuteTime": {
     "end_time": "2023-05-09T17:47:58.251300Z",
     "start_time": "2023-05-09T17:47:58.229266Z"
    }
   },
   "outputs": [],
   "source": [
    "class UnetGenerator(nn.Module):\n",
    "    def __init__(self, input_nc=3, output_nc=3, ngf=64):\n",
    "        super(UnetGenerator, self).__init__()\n",
    "\n",
    "        self.down1 = nn.Conv2d(input_nc, ngf, kernel_size=4, stride=2, padding=1)\n",
    "        self.down2 = Downsample(ngf, ngf*2)\n",
    "        self.down3 = Downsample(ngf*2, ngf*4)\n",
    "        self.down4 = Downsample(ngf*4, ngf*8)\n",
    "        self.down5 = Downsample(ngf*8, ngf*8)\n",
    "        self.down6 = Downsample(ngf*8, ngf*8)\n",
    "        self.down7 = Downsample(ngf*8, ngf*8)\n",
    "\n",
    "        self.center = Downsample(ngf*8, ngf*8)\n",
    "\n",
    "        self.up7 = Upsample(ngf*8, ngf*8, use_dropout=True)\n",
    "        self.up6 = Upsample(ngf*8*2, ngf*8, use_dropout=True)\n",
    "        self.up5 = Upsample(ngf*8*2, ngf*8, use_dropout=True)\n",
    "        self.up4 = Upsample(ngf*8*2, ngf*8)\n",
    "        self.up3 = Upsample(ngf*8*2, ngf*4)\n",
    "        self.up2 = Upsample(ngf*4*2, ngf*2)\n",
    "        self.up1 = Upsample(ngf*2*2, ngf)\n",
    "\n",
    "        self.output_block = nn.Sequential(\n",
    "            nn.ReLU(),\n",
    "            nn.ConvTranspose2d(ngf*2, output_nc, kernel_size=4, stride=2, padding=1),\n",
    "            nn.Tanh()\n",
    "        )\n",
    "\n",
    "    def forward(self, x):\n",
    "        d1 = self.down1(x)\n",
    "        d2 = self.down2(d1)\n",
    "        d3 = self.down3(d2)\n",
    "        d4 = self.down4(d3)\n",
    "        d5 = self.down5(d4)\n",
    "        d6 = self.down6(d5)\n",
    "        d7 = self.down7(d6)\n",
    "        \n",
    "        c = self.center(d7)\n",
    "        \n",
    "        x = self.up7(c, d7)\n",
    "        x = self.up6(x, d6)\n",
    "        x = self.up5(x, d5)\n",
    "        x = self.up4(x, d4)\n",
    "        x = self.up3(x, d3)\n",
    "        x = self.up2(x, d2)\n",
    "        x = self.up1(x, d1)\n",
    "\n",
    "        x = self.output_block(x)\n",
    "        return x"
   ]
  },
  {
   "cell_type": "code",
   "execution_count": 36,
   "id": "bd420650",
   "metadata": {
    "ExecuteTime": {
     "end_time": "2023-05-09T17:47:59.776291Z",
     "start_time": "2023-05-09T17:47:59.752834Z"
    }
   },
   "outputs": [],
   "source": [
    "class NLayerDiscriminator(nn.Module):\n",
    "    def __init__(self, input_nc=6, ndf=64):\n",
    "        super(NLayerDiscriminator, self).__init__()\n",
    "\n",
    "        self.layers = nn.Sequential(\n",
    "            nn.Conv2d(input_nc, ndf, kernel_size=4, stride=2, padding=1), \n",
    "            nn.LeakyReLU(0.2),\n",
    "            \n",
    "            ConvBlock(ndf, ndf*2),\n",
    "            ConvBlock(ndf*2, ndf*4),\n",
    "            ConvBlock(ndf*4, ndf*8, stride=1),\n",
    "\n",
    "            nn.Conv2d(ndf*8, 1, kernel_size=4, stride=1, padding=1),\n",
    "            nn.Sigmoid()\n",
    "        )\n",
    "\n",
    "    def forward(self, input):\n",
    "        return self.layers(input)\n",
    "\n",
    "\n",
    "class ConvBlock(nn.Module):\n",
    "    # conv => batch norm => LeakyReLU\n",
    "    def __init__(self, in_dim, out_dim, kernel_size=4, stride=2, padding=1):\n",
    "        super(ConvBlock, self).__init__()\n",
    "\n",
    "        self.layers = nn.Sequential(\n",
    "            nn.Conv2d(in_dim, out_dim, kernel_size, stride, padding, bias=False),\n",
    "            nn.BatchNorm2d(out_dim),\n",
    "            nn.LeakyReLU(0.2)\n",
    "        )\n",
    "\n",
    "    def forward(self, x):\n",
    "        x = self.layers(x)\n",
    "        return x"
   ]
  },
  {
   "cell_type": "code",
   "execution_count": 37,
   "id": "f1eaee98",
   "metadata": {
    "ExecuteTime": {
     "end_time": "2023-05-09T17:48:02.608781Z",
     "start_time": "2023-05-09T17:48:01.117052Z"
    }
   },
   "outputs": [],
   "source": [
    "device = torch.device(\"cuda\" if torch.cuda.is_available() else \"cpu\")\n",
    "\n",
    "generator = UnetGenerator().to(device)\n",
    "discriminator = NLayerDiscriminator().to(device)"
   ]
  },
  {
   "cell_type": "code",
   "execution_count": 38,
   "id": "601889bc",
   "metadata": {
    "ExecuteTime": {
     "end_time": "2023-05-09T17:48:04.937721Z",
     "start_time": "2023-05-09T17:48:04.913592Z"
    }
   },
   "outputs": [],
   "source": [
    "from torch import nn, optim\n",
    "\n",
    "# 超参数\n",
    "LR = 1e-4\n",
    "BATCH_SIZE = 8\n",
    "EPOCHS = 100\n",
    "\n",
    "# 优化器\n",
    "optimizerG = optim.Adam(\n",
    "    generator.parameters(),\n",
    "    lr=LR,\n",
    "    betas=(0.5, 0.999)\n",
    ")\n",
    "\n",
    "optimizerD = optim.Adam(\n",
    "    discriminator.parameters(),\n",
    "    lr=LR,\n",
    "    betas=(0.5, 0.999)\n",
    ")\n",
    "\n",
    "# 损失函数\n",
    "bce_loss = nn.BCELoss()\n",
    "l1_loss = nn.L1Loss()\n",
    "\n",
    "# dataloader\n",
    "data_loader_train = DataLoader(\n",
    "    paired_dataset_train,\n",
    "    batch_size=BATCH_SIZE,\n",
    "    shuffle=True,\n",
    "    drop_last=True\n",
    ")\n",
    "\n",
    "data_loader_test = DataLoader(\n",
    "    paired_dataset_test,\n",
    "    batch_size=BATCH_SIZE\n",
    ")"
   ]
  },
  {
   "cell_type": "code",
   "execution_count": 39,
   "id": "71f60501",
   "metadata": {
    "ExecuteTime": {
     "end_time": "2023-05-09T17:48:36.584104Z",
     "start_time": "2023-05-09T17:48:35.234013Z"
    }
   },
   "outputs": [
    {
     "name": "stdout",
     "output_type": "stream",
     "text": [
      "生成器输出尺寸： torch.Size([8, 3, 256, 256])\n",
      "鉴别器输出尺寸： torch.Size([8, 1, 30, 30])\n"
     ]
    }
   ],
   "source": [
    "out = generator(torch.ones([8, 3, 256, 256]).to(device))\n",
    "print('生成器输出尺寸：', out.shape)\n",
    "\n",
    "out = discriminator(torch.ones([8, 6, 256, 256]).to(device))\n",
    "print('鉴别器输出尺寸：', out.shape)"
   ]
  },
  {
   "cell_type": "code",
   "execution_count": 40,
   "id": "16105711",
   "metadata": {},
   "outputs": [],
   "source": [
    "results_save_path = './results/'\n",
    "if os.path.exists(results_save_path):\n",
    "    os.makedirs(results_save_path, exist_ok=True)  # 保存每个epoch的测试结果\n",
    "\n",
    "weights_save_path = './checkpoints/'\n",
    "if os.path.exists(weights_save_path):\n",
    "    os.makedirs(weights_save_path, exist_ok=True)  # 保存模型\n",
    "\n",
    "device = torch.device(\"cuda\" if torch.cuda.is_available() else \"cpu\")"
   ]
  },
  {
   "cell_type": "code",
   "execution_count": 41,
   "id": "450d744f",
   "metadata": {
    "ExecuteTime": {
     "end_time": "2023-05-09T18:34:48.660557Z",
     "start_time": "2023-05-09T18:34:48.638547Z"
    }
   },
   "outputs": [],
   "source": [
    "EPOCHS = 50\n",
    "from torch.utils.tensorboard import SummaryWriter\n",
    "# 实例化SummaryWriter对象, 用tensorboard记录实验结果\n",
    "writer = SummaryWriter(log_dir='/root/tf-logs/')"
   ]
  },
  {
   "cell_type": "code",
   "execution_count": 42,
   "id": "cbdc23f1",
   "metadata": {
    "ExecuteTime": {
     "end_time": "2023-05-09T18:59:47.923906Z",
     "start_time": "2023-05-09T18:34:49.372967Z"
    }
   },
   "outputs": [
    {
     "name": "stderr",
     "output_type": "stream",
     "text": [
      "100%|██████████| 187/187 [01:04<00:00,  2.91it/s]\n"
     ]
    },
    {
     "name": "stdout",
     "output_type": "stream",
     "text": [
      "Epoch [1/50] Loss D: 0.5027278661727905, Loss G: 16.82379722595215\n"
     ]
    },
    {
     "name": "stderr",
     "output_type": "stream",
     "text": [
      "100%|██████████| 187/187 [01:03<00:00,  2.94it/s]\n"
     ]
    },
    {
     "name": "stdout",
     "output_type": "stream",
     "text": [
      "Epoch [2/50] Loss D: 0.558770477771759, Loss G: 15.72962760925293\n"
     ]
    },
    {
     "name": "stderr",
     "output_type": "stream",
     "text": [
      "100%|██████████| 187/187 [01:03<00:00,  2.92it/s]\n"
     ]
    },
    {
     "name": "stdout",
     "output_type": "stream",
     "text": [
      "Epoch [3/50] Loss D: 0.48727524280548096, Loss G: 17.980648040771484\n"
     ]
    },
    {
     "name": "stderr",
     "output_type": "stream",
     "text": [
      "100%|██████████| 187/187 [01:03<00:00,  2.92it/s]\n"
     ]
    },
    {
     "name": "stdout",
     "output_type": "stream",
     "text": [
      "Epoch [4/50] Loss D: 0.6101694107055664, Loss G: 12.626778602600098\n"
     ]
    },
    {
     "name": "stderr",
     "output_type": "stream",
     "text": [
      "100%|██████████| 187/187 [01:03<00:00,  2.95it/s]\n"
     ]
    },
    {
     "name": "stdout",
     "output_type": "stream",
     "text": [
      "Epoch [5/50] Loss D: 0.44258081912994385, Loss G: 15.544577598571777\n"
     ]
    },
    {
     "name": "stderr",
     "output_type": "stream",
     "text": [
      "100%|██████████| 187/187 [01:04<00:00,  2.92it/s]\n"
     ]
    },
    {
     "name": "stdout",
     "output_type": "stream",
     "text": [
      "Epoch [6/50] Loss D: 0.663121223449707, Loss G: 13.911996841430664\n"
     ]
    },
    {
     "name": "stderr",
     "output_type": "stream",
     "text": [
      "100%|██████████| 187/187 [01:03<00:00,  2.93it/s]\n"
     ]
    },
    {
     "name": "stdout",
     "output_type": "stream",
     "text": [
      "Epoch [7/50] Loss D: 0.5498199462890625, Loss G: 16.43813705444336\n"
     ]
    },
    {
     "name": "stderr",
     "output_type": "stream",
     "text": [
      "100%|██████████| 187/187 [01:03<00:00,  2.96it/s]\n"
     ]
    },
    {
     "name": "stdout",
     "output_type": "stream",
     "text": [
      "Epoch [8/50] Loss D: 0.49890756607055664, Loss G: 13.836112022399902\n"
     ]
    },
    {
     "name": "stderr",
     "output_type": "stream",
     "text": [
      "100%|██████████| 187/187 [01:03<00:00,  2.94it/s]\n"
     ]
    },
    {
     "name": "stdout",
     "output_type": "stream",
     "text": [
      "Epoch [9/50] Loss D: 0.46903884410858154, Loss G: 16.059768676757812\n"
     ]
    },
    {
     "name": "stderr",
     "output_type": "stream",
     "text": [
      "100%|██████████| 187/187 [01:03<00:00,  2.96it/s]\n"
     ]
    },
    {
     "name": "stdout",
     "output_type": "stream",
     "text": [
      "Epoch [10/50] Loss D: 0.5181180238723755, Loss G: 12.167506217956543\n"
     ]
    },
    {
     "name": "stderr",
     "output_type": "stream",
     "text": [
      "100%|██████████| 187/187 [01:03<00:00,  2.95it/s]\n"
     ]
    },
    {
     "name": "stdout",
     "output_type": "stream",
     "text": [
      "Epoch [11/50] Loss D: 0.6204447746276855, Loss G: 13.727514266967773\n"
     ]
    },
    {
     "name": "stderr",
     "output_type": "stream",
     "text": [
      "100%|██████████| 187/187 [01:03<00:00,  2.94it/s]\n"
     ]
    },
    {
     "name": "stdout",
     "output_type": "stream",
     "text": [
      "Epoch [12/50] Loss D: 0.7356151342391968, Loss G: 10.575288772583008\n"
     ]
    },
    {
     "name": "stderr",
     "output_type": "stream",
     "text": [
      "100%|██████████| 187/187 [01:04<00:00,  2.92it/s]\n"
     ]
    },
    {
     "name": "stdout",
     "output_type": "stream",
     "text": [
      "Epoch [13/50] Loss D: 0.3466085195541382, Loss G: 13.238426208496094\n"
     ]
    },
    {
     "name": "stderr",
     "output_type": "stream",
     "text": [
      "100%|██████████| 187/187 [01:05<00:00,  2.88it/s]\n"
     ]
    },
    {
     "name": "stdout",
     "output_type": "stream",
     "text": [
      "Epoch [14/50] Loss D: 0.4446236193180084, Loss G: 14.471049308776855\n"
     ]
    },
    {
     "name": "stderr",
     "output_type": "stream",
     "text": [
      "100%|██████████| 187/187 [01:04<00:00,  2.91it/s]\n"
     ]
    },
    {
     "name": "stdout",
     "output_type": "stream",
     "text": [
      "Epoch [15/50] Loss D: 0.3817664384841919, Loss G: 12.214873313903809\n"
     ]
    },
    {
     "name": "stderr",
     "output_type": "stream",
     "text": [
      "100%|██████████| 187/187 [01:03<00:00,  2.92it/s]\n"
     ]
    },
    {
     "name": "stdout",
     "output_type": "stream",
     "text": [
      "Epoch [16/50] Loss D: 0.3523368835449219, Loss G: 12.835640907287598\n"
     ]
    },
    {
     "name": "stderr",
     "output_type": "stream",
     "text": [
      "100%|██████████| 187/187 [01:03<00:00,  2.93it/s]\n"
     ]
    },
    {
     "name": "stdout",
     "output_type": "stream",
     "text": [
      "Epoch [17/50] Loss D: 0.5337226390838623, Loss G: 12.865813255310059\n"
     ]
    },
    {
     "name": "stderr",
     "output_type": "stream",
     "text": [
      "100%|██████████| 187/187 [01:03<00:00,  2.94it/s]\n"
     ]
    },
    {
     "name": "stdout",
     "output_type": "stream",
     "text": [
      "Epoch [18/50] Loss D: 0.8136641383171082, Loss G: 16.73992347717285\n"
     ]
    },
    {
     "name": "stderr",
     "output_type": "stream",
     "text": [
      "100%|██████████| 187/187 [01:02<00:00,  2.97it/s]\n"
     ]
    },
    {
     "name": "stdout",
     "output_type": "stream",
     "text": [
      "Epoch [19/50] Loss D: 0.34980088472366333, Loss G: 15.575443267822266\n"
     ]
    },
    {
     "name": "stderr",
     "output_type": "stream",
     "text": [
      "100%|██████████| 187/187 [01:03<00:00,  2.95it/s]\n"
     ]
    },
    {
     "name": "stdout",
     "output_type": "stream",
     "text": [
      "Epoch [20/50] Loss D: 0.3340662121772766, Loss G: 12.588224411010742\n"
     ]
    },
    {
     "name": "stderr",
     "output_type": "stream",
     "text": [
      "100%|██████████| 187/187 [01:03<00:00,  2.96it/s]\n"
     ]
    },
    {
     "name": "stdout",
     "output_type": "stream",
     "text": [
      "Epoch [21/50] Loss D: 0.1475202590227127, Loss G: 15.593640327453613\n"
     ]
    },
    {
     "name": "stderr",
     "output_type": "stream",
     "text": [
      "100%|██████████| 187/187 [01:03<00:00,  2.94it/s]\n"
     ]
    },
    {
     "name": "stdout",
     "output_type": "stream",
     "text": [
      "Epoch [22/50] Loss D: 0.3692028820514679, Loss G: 15.470340728759766\n"
     ]
    },
    {
     "name": "stderr",
     "output_type": "stream",
     "text": [
      "100%|██████████| 187/187 [01:03<00:00,  2.95it/s]\n"
     ]
    },
    {
     "name": "stdout",
     "output_type": "stream",
     "text": [
      "Epoch [23/50] Loss D: 0.4652760624885559, Loss G: 16.208431243896484\n"
     ]
    },
    {
     "name": "stderr",
     "output_type": "stream",
     "text": [
      "100%|██████████| 187/187 [01:03<00:00,  2.97it/s]\n"
     ]
    },
    {
     "name": "stdout",
     "output_type": "stream",
     "text": [
      "Epoch [24/50] Loss D: 0.3089368939399719, Loss G: 16.088897705078125\n"
     ]
    },
    {
     "name": "stderr",
     "output_type": "stream",
     "text": [
      "100%|██████████| 187/187 [01:03<00:00,  2.96it/s]\n"
     ]
    },
    {
     "name": "stdout",
     "output_type": "stream",
     "text": [
      "Epoch [25/50] Loss D: 0.15466326475143433, Loss G: 15.318866729736328\n"
     ]
    },
    {
     "name": "stderr",
     "output_type": "stream",
     "text": [
      "100%|██████████| 187/187 [01:03<00:00,  2.96it/s]\n"
     ]
    },
    {
     "name": "stdout",
     "output_type": "stream",
     "text": [
      "Epoch [26/50] Loss D: 0.17686261236667633, Loss G: 14.008050918579102\n"
     ]
    },
    {
     "name": "stderr",
     "output_type": "stream",
     "text": [
      "100%|██████████| 187/187 [01:03<00:00,  2.94it/s]\n"
     ]
    },
    {
     "name": "stdout",
     "output_type": "stream",
     "text": [
      "Epoch [27/50] Loss D: 0.13070616126060486, Loss G: 11.792806625366211\n"
     ]
    },
    {
     "name": "stderr",
     "output_type": "stream",
     "text": [
      "100%|██████████| 187/187 [01:03<00:00,  2.95it/s]\n"
     ]
    },
    {
     "name": "stdout",
     "output_type": "stream",
     "text": [
      "Epoch [28/50] Loss D: 0.09050644934177399, Loss G: 13.262195587158203\n"
     ]
    },
    {
     "name": "stderr",
     "output_type": "stream",
     "text": [
      "100%|██████████| 187/187 [01:02<00:00,  2.98it/s]\n"
     ]
    },
    {
     "name": "stdout",
     "output_type": "stream",
     "text": [
      "Epoch [29/50] Loss D: 0.16504643857479095, Loss G: 16.701887130737305\n"
     ]
    },
    {
     "name": "stderr",
     "output_type": "stream",
     "text": [
      "100%|██████████| 187/187 [01:03<00:00,  2.96it/s]\n"
     ]
    },
    {
     "name": "stdout",
     "output_type": "stream",
     "text": [
      "Epoch [30/50] Loss D: 0.17733721435070038, Loss G: 11.337803840637207\n"
     ]
    },
    {
     "name": "stderr",
     "output_type": "stream",
     "text": [
      "100%|██████████| 187/187 [01:03<00:00,  2.94it/s]\n"
     ]
    },
    {
     "name": "stdout",
     "output_type": "stream",
     "text": [
      "Epoch [31/50] Loss D: 0.1864265501499176, Loss G: 12.862166404724121\n"
     ]
    },
    {
     "name": "stderr",
     "output_type": "stream",
     "text": [
      "100%|██████████| 187/187 [01:03<00:00,  2.96it/s]\n"
     ]
    },
    {
     "name": "stdout",
     "output_type": "stream",
     "text": [
      "Epoch [32/50] Loss D: 0.1430969536304474, Loss G: 13.396514892578125\n"
     ]
    },
    {
     "name": "stderr",
     "output_type": "stream",
     "text": [
      "100%|██████████| 187/187 [01:02<00:00,  2.97it/s]\n"
     ]
    },
    {
     "name": "stdout",
     "output_type": "stream",
     "text": [
      "Epoch [33/50] Loss D: 0.17126424610614777, Loss G: 14.274295806884766\n"
     ]
    },
    {
     "name": "stderr",
     "output_type": "stream",
     "text": [
      "100%|██████████| 187/187 [01:03<00:00,  2.96it/s]\n"
     ]
    },
    {
     "name": "stdout",
     "output_type": "stream",
     "text": [
      "Epoch [34/50] Loss D: 0.24070236086845398, Loss G: 14.478164672851562\n"
     ]
    },
    {
     "name": "stderr",
     "output_type": "stream",
     "text": [
      "100%|██████████| 187/187 [01:03<00:00,  2.96it/s]\n"
     ]
    },
    {
     "name": "stdout",
     "output_type": "stream",
     "text": [
      "Epoch [35/50] Loss D: 0.17396512627601624, Loss G: 12.673310279846191\n"
     ]
    },
    {
     "name": "stderr",
     "output_type": "stream",
     "text": [
      "100%|██████████| 187/187 [01:03<00:00,  2.94it/s]\n"
     ]
    },
    {
     "name": "stdout",
     "output_type": "stream",
     "text": [
      "Epoch [36/50] Loss D: 0.46584630012512207, Loss G: 14.145442962646484\n"
     ]
    },
    {
     "name": "stderr",
     "output_type": "stream",
     "text": [
      "100%|██████████| 187/187 [01:03<00:00,  2.95it/s]\n"
     ]
    },
    {
     "name": "stdout",
     "output_type": "stream",
     "text": [
      "Epoch [37/50] Loss D: 0.13379889726638794, Loss G: 13.102850914001465\n"
     ]
    },
    {
     "name": "stderr",
     "output_type": "stream",
     "text": [
      "100%|██████████| 187/187 [01:03<00:00,  2.96it/s]\n"
     ]
    },
    {
     "name": "stdout",
     "output_type": "stream",
     "text": [
      "Epoch [38/50] Loss D: 2.015998601913452, Loss G: 15.213249206542969\n"
     ]
    },
    {
     "name": "stderr",
     "output_type": "stream",
     "text": [
      "100%|██████████| 187/187 [01:02<00:00,  2.97it/s]\n"
     ]
    },
    {
     "name": "stdout",
     "output_type": "stream",
     "text": [
      "Epoch [39/50] Loss D: 0.4630644619464874, Loss G: 10.872984886169434\n"
     ]
    },
    {
     "name": "stderr",
     "output_type": "stream",
     "text": [
      "100%|██████████| 187/187 [01:03<00:00,  2.97it/s]\n"
     ]
    },
    {
     "name": "stdout",
     "output_type": "stream",
     "text": [
      "Epoch [40/50] Loss D: 0.4034480154514313, Loss G: 11.869609832763672\n"
     ]
    },
    {
     "name": "stderr",
     "output_type": "stream",
     "text": [
      "100%|██████████| 187/187 [01:03<00:00,  2.96it/s]\n"
     ]
    },
    {
     "name": "stdout",
     "output_type": "stream",
     "text": [
      "Epoch [41/50] Loss D: 0.24420166015625, Loss G: 12.363496780395508\n"
     ]
    },
    {
     "name": "stderr",
     "output_type": "stream",
     "text": [
      "100%|██████████| 187/187 [01:03<00:00,  2.96it/s]\n"
     ]
    },
    {
     "name": "stdout",
     "output_type": "stream",
     "text": [
      "Epoch [42/50] Loss D: 0.31651368737220764, Loss G: 13.009367942810059\n"
     ]
    },
    {
     "name": "stderr",
     "output_type": "stream",
     "text": [
      "100%|██████████| 187/187 [01:03<00:00,  2.95it/s]\n"
     ]
    },
    {
     "name": "stdout",
     "output_type": "stream",
     "text": [
      "Epoch [43/50] Loss D: 0.2097504585981369, Loss G: 14.992843627929688\n"
     ]
    },
    {
     "name": "stderr",
     "output_type": "stream",
     "text": [
      "100%|██████████| 187/187 [01:02<00:00,  2.97it/s]\n"
     ]
    },
    {
     "name": "stdout",
     "output_type": "stream",
     "text": [
      "Epoch [44/50] Loss D: 0.22647199034690857, Loss G: 13.713573455810547\n"
     ]
    },
    {
     "name": "stderr",
     "output_type": "stream",
     "text": [
      "100%|██████████| 187/187 [01:03<00:00,  2.96it/s]\n"
     ]
    },
    {
     "name": "stdout",
     "output_type": "stream",
     "text": [
      "Epoch [45/50] Loss D: 0.36940205097198486, Loss G: 12.299605369567871\n"
     ]
    },
    {
     "name": "stderr",
     "output_type": "stream",
     "text": [
      "100%|██████████| 187/187 [01:03<00:00,  2.97it/s]\n"
     ]
    },
    {
     "name": "stdout",
     "output_type": "stream",
     "text": [
      "Epoch [46/50] Loss D: 0.7054151296615601, Loss G: 12.172661781311035\n"
     ]
    },
    {
     "name": "stderr",
     "output_type": "stream",
     "text": [
      "100%|██████████| 187/187 [01:03<00:00,  2.95it/s]\n"
     ]
    },
    {
     "name": "stdout",
     "output_type": "stream",
     "text": [
      "Epoch [47/50] Loss D: 0.17636147141456604, Loss G: 12.13811206817627\n"
     ]
    },
    {
     "name": "stderr",
     "output_type": "stream",
     "text": [
      "100%|██████████| 187/187 [01:02<00:00,  2.97it/s]\n"
     ]
    },
    {
     "name": "stdout",
     "output_type": "stream",
     "text": [
      "Epoch [48/50] Loss D: 0.13828159868717194, Loss G: 12.507722854614258\n"
     ]
    },
    {
     "name": "stderr",
     "output_type": "stream",
     "text": [
      "100%|██████████| 187/187 [01:03<00:00,  2.96it/s]\n"
     ]
    },
    {
     "name": "stdout",
     "output_type": "stream",
     "text": [
      "Epoch [49/50] Loss D: 0.433326780796051, Loss G: 10.497750282287598\n"
     ]
    },
    {
     "name": "stderr",
     "output_type": "stream",
     "text": [
      "100%|██████████| 187/187 [01:03<00:00,  2.97it/s]\n"
     ]
    },
    {
     "name": "stdout",
     "output_type": "stream",
     "text": [
      "Epoch [50/50] Loss D: 0.17312343418598175, Loss G: 12.490008354187012\n"
     ]
    }
   ],
   "source": [
    "for epoch in range(EPOCHS):\n",
    "    for real_A, real_B in tqdm(data_loader_train):\n",
    "        real_A = real_A.to(device)\n",
    "        real_B = real_B.to(device)\n",
    "\n",
    "        optimizerD.zero_grad()\n",
    "\n",
    "        # D(real)\n",
    "        real_AB = torch.cat([real_A, real_B], dim=1)\n",
    "        d_real_predict = discriminator(real_AB)\n",
    "        d_real_loss = bce_loss(d_real_predict, torch.ones_like(d_real_predict))\n",
    "\n",
    "        # D(fake)\n",
    "        fake_B = generator(real_A).detach()\n",
    "        fake_AB = torch.cat([real_A, fake_B], dim=1)\n",
    "        d_fake_predict = discriminator(fake_AB)\n",
    "        d_fake_loss = bce_loss(d_fake_predict, torch.zeros_like(d_fake_predict))\n",
    "\n",
    "        # train D\n",
    "        d_loss = (d_real_loss + d_fake_loss) / 2.\n",
    "        d_loss.backward()\n",
    "        optimizerD.step()\n",
    "\n",
    "        optimizerG.zero_grad()\n",
    "\n",
    "        # D(fake)\n",
    "        fake_B = generator(real_A)\n",
    "        fake_AB = torch.cat([real_A, fake_B], dim=1)\n",
    "        g_fake_predict = discriminator(fake_AB)\n",
    "        g_bce_loss = bce_loss(g_fake_predict, torch.ones_like(g_fake_predict))\n",
    "        g_l1_loss = l1_loss(fake_B, real_B) * 100.\n",
    "        g_loss = g_bce_loss + g_l1_loss\n",
    "\n",
    "        # train G\n",
    "        g_loss.backward()\n",
    "        optimizerG.step()\n",
    "\n",
    "        # 记录训练和验证损失\n",
    "        writer.add_scalar('Loss/D', d_loss.item(), global_step = epoch)\n",
    "        writer.add_scalar('Loss/G', g_loss.item(), global_step = epoch)\n",
    "\n",
    "    print(f'Epoch [{epoch+1}/{EPOCHS}] Loss D: {d_loss.item()}, Loss G: {g_loss.item()}')\n",
    "\n",
    "    if (epoch+1) % 10 == 0:\n",
    "        torch.save(generator.state_dict(), os.path.join(weights_save_path, 'epoch'+str(epoch+1).zfill(3)+'.pt'))\n",
    "\n",
    "        # test\n",
    "        generator.eval()\n",
    "        with torch.no_grad():\n",
    "            for real_A, real_B in data_loader_test:\n",
    "                real_A = real_A.to(device)\n",
    "                real_B = real_B.to(device)\n",
    "                break\n",
    "\n",
    "            fake_B = generator(real_A)\n",
    "            result = torch.cat([real_A[:3], real_B[:3], fake_B[:3]], dim=3)\n",
    "\n",
    "            result = result.detach().cpu().numpy().transpose(0, 2, 3, 1)\n",
    "            result = result * 127.5 + 127.5\n",
    "            \n",
    "            result = np.vstack(result)\n",
    "            result = (result * 255).astype(np.uint8)\n",
    "            \n",
    "        cv2.imwrite(os.path.join(results_save_path, 'epoch'+str(epoch+1).zfill(3)+'.png'), result)\n",
    "\n",
    "        generator.train()"
   ]
  }
 ],
 "metadata": {
  "kernelspec": {
   "display_name": "base",
   "language": "python",
   "name": "python3"
  },
  "language_info": {
   "codemirror_mode": {
    "name": "ipython",
    "version": 3
   },
   "file_extension": ".py",
   "mimetype": "text/x-python",
   "name": "python",
   "nbconvert_exporter": "python",
   "pygments_lexer": "ipython3",
   "version": "3.8.10"
  }
 },
 "nbformat": 4,
 "nbformat_minor": 5
}
