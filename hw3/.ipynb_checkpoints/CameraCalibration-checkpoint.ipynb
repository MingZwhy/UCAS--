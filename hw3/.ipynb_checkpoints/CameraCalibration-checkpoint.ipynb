{
 "cells": [
  {
   "cell_type": "code",
   "execution_count": 1,
   "id": "cd7b54e3",
   "metadata": {
    "ExecuteTime": {
     "end_time": "2023-07-03T09:43:40.256269Z",
     "start_time": "2023-07-03T09:43:39.748051Z"
    }
   },
   "outputs": [],
   "source": [
    "import cv2\n",
    "import numpy as np\n",
    "import glob\n",
    "\n",
    "np.set_printoptions(suppress=True)"
   ]
  },
  {
   "cell_type": "code",
   "execution_count": 3,
   "id": "add4f68e",
   "metadata": {
    "ExecuteTime": {
     "end_time": "2023-07-03T09:43:47.173969Z",
     "start_time": "2023-07-03T09:43:47.154787Z"
    }
   },
   "outputs": [],
   "source": [
    "# step1 找棋盘格的角点"
   ]
  },
  {
   "cell_type": "code",
   "execution_count": 14,
   "id": "ccd12fb3",
   "metadata": {
    "ExecuteTime": {
     "end_time": "2023-07-03T10:09:29.580966Z",
     "start_time": "2023-07-03T10:09:29.566548Z"
    }
   },
   "outputs": [],
   "source": [
    "def get_points(images, if_show_points,objp_zero):\n",
    "    count = 0 #符合条件图片计数\n",
    "    \n",
    "    for fname in images:\n",
    "        # 读入图片\n",
    "        img = cv2.imread(fname)\n",
    "        # 将图片转换为灰度图\n",
    "        gray = cv2.cvtColor(img, cv2.COLOR_BGR2GRAY)\n",
    "        # 找到棋盘格角点\n",
    "        ret, corners = cv2.findChessboardCorners(gray, (w, h), None)\n",
    "        # 如果找到足够点对，将其存储起来\n",
    "        if ret == True:\n",
    "            # 角点精确检测\n",
    "            count += 1\n",
    "            cv2.cornerSubPix(gray, corners, (11, 11), (-1, -1), criteria)\n",
    "            # 将结果存入列表\n",
    "            objpoints.append(objp_zero)\n",
    "            imgpoints.append(corners)\n",
    "            # 将角点在图像上显示\n",
    "            cv2.drawChessboardCorners(img, (w, h), corners, ret)\n",
    "            # 是否窗口展示结果\n",
    "            if if_show_points:\n",
    "                cv2.imshow('findCorners', img)\n",
    "            # 保存包含角点的结果\n",
    "            cv2.imwrite('bd_points/points_' + str(count) + '.jpg', img)\n",
    "            cv2.waitKey(10)\n",
    "    cv2.destroyAllWindows()\n",
    "    return gray"
   ]
  },
  {
   "cell_type": "code",
   "execution_count": 15,
   "id": "cf64af23",
   "metadata": {
    "ExecuteTime": {
     "end_time": "2023-07-03T10:09:37.661980Z",
     "start_time": "2023-07-03T10:09:31.060090Z"
    }
   },
   "outputs": [],
   "source": [
    "# 定义搜索的阈值\n",
    "criteria = (cv2.TERM_CRITERIA_EPS + cv2.TERM_CRITERIA_MAX_ITER, 30, 0.001)\n",
    "# 定义棋盘格模板规格\n",
    "w = 6  \n",
    "h = 4\n",
    "\n",
    "# 定义世界坐标系中的棋盘格点 (设为0)\n",
    "objp_zero = np.zeros((w * h, 3), np.float32)\n",
    "objp_zero[:, :2] = np.mgrid[0:w, 0:h].T.reshape(-1, 2)\n",
    "\n",
    "# 储存棋盘格角点的世界坐标和图像坐标对\n",
    "objpoints = []  # 世界坐标系中的三维点\n",
    "imgpoints = []  # 图像平面的二维点\n",
    "\n",
    "# 遍历calibimage中的图片\n",
    "images = glob.glob('calibimage/*')\n",
    "\n",
    "# 得到棋盘格的角点：\n",
    "gray = get_points(images, True, objp_zero)"
   ]
  },
  {
   "cell_type": "code",
   "execution_count": 12,
   "id": "ddb5a679",
   "metadata": {
    "ExecuteTime": {
     "end_time": "2023-07-03T10:07:52.626035Z",
     "start_time": "2023-07-03T10:07:52.608544Z"
    }
   },
   "outputs": [],
   "source": [
    "# 根据objpoints和imgpoints计算内参和外参"
   ]
  },
  {
   "cell_type": "code",
   "execution_count": 23,
   "id": "de1d16e5",
   "metadata": {
    "ExecuteTime": {
     "end_time": "2023-07-03T10:20:32.034498Z",
     "start_time": "2023-07-03T10:20:31.762823Z"
    }
   },
   "outputs": [],
   "source": [
    "ret, mtx, dist, rvecs, tvecs = cv2.calibrateCamera(objpoints, imgpoints, gray.shape[::-1], None, None)\n",
    "# input：世界坐标系里的位置 像素坐标 图像的像素尺寸大小 3*3矩阵，相机内参数矩阵 畸变矩阵\n",
    "# output：重投影误差 内参数矩阵 畸变系数 外参数矩阵(旋转矩阵 + 平移向量)"
   ]
  },
  {
   "cell_type": "code",
   "execution_count": 24,
   "id": "18e8db0e",
   "metadata": {
    "ExecuteTime": {
     "end_time": "2023-07-03T10:20:33.317567Z",
     "start_time": "2023-07-03T10:20:33.300385Z"
    }
   },
   "outputs": [
    {
     "name": "stdout",
     "output_type": "stream",
     "text": [
      "重投影误差: 0.2853967165200784\n"
     ]
    }
   ],
   "source": [
    "# 重投影误差\n",
    "print((\"重投影误差:\"), ret)"
   ]
  },
  {
   "cell_type": "code",
   "execution_count": 25,
   "id": "898a6957",
   "metadata": {
    "ExecuteTime": {
     "end_time": "2023-07-03T10:20:34.052343Z",
     "start_time": "2023-07-03T10:20:34.032542Z"
    }
   },
   "outputs": [
    {
     "name": "stdout",
     "output_type": "stream",
     "text": [
      "内参数矩阵:\n",
      " [[875.80821861   0.         318.74229462]\n",
      " [  0.         886.78642955 228.25653634]\n",
      " [  0.           0.           1.        ]]\n"
     ]
    }
   ],
   "source": [
    "# 内参数矩阵\n",
    "print((\"内参数矩阵:\\n\"), mtx)  "
   ]
  },
  {
   "cell_type": "code",
   "execution_count": 26,
   "id": "7685b24f",
   "metadata": {
    "ExecuteTime": {
     "end_time": "2023-07-03T10:20:34.654361Z",
     "start_time": "2023-07-03T10:20:34.641404Z"
    }
   },
   "outputs": [
    {
     "name": "stdout",
     "output_type": "stream",
     "text": [
      "畸变系数:\n",
      "\n",
      "k1:  -0.4067661800125543\n",
      "k2:  -0.061603728832662304\n",
      "p1:  0.0012352233941970536\n",
      "p2:  -0.002438642263803446\n",
      "k3:  0.9575992357100578\n"
     ]
    }
   ],
   "source": [
    "# 畸变系数 (k_1,k_2,p_1,p_2,k_3)\n",
    "print(\"畸变系数:\\n\")  \n",
    "print(\"k1: \", dist[0][0])\n",
    "print(\"k2: \", dist[0][1])\n",
    "print(\"p1: \", dist[0][2])\n",
    "print(\"p2: \", dist[0][3])\n",
    "print(\"k3: \", dist[0][4])"
   ]
  },
  {
   "cell_type": "code",
   "execution_count": 27,
   "id": "9a40bc98",
   "metadata": {
    "ExecuteTime": {
     "end_time": "2023-07-03T10:20:35.332922Z",
     "start_time": "2023-07-03T10:20:35.311019Z"
    }
   },
   "outputs": [
    {
     "name": "stdout",
     "output_type": "stream",
     "text": [
      "外参数矩阵——旋转向量:\n",
      " (array([[ 0.16326832],\n",
      "       [-0.03257553],\n",
      "       [ 1.52068594]]), array([[ 0.16572197],\n",
      "       [-0.03102486],\n",
      "       [ 1.52064976]]), array([[-0.05180456],\n",
      "       [-0.26422997],\n",
      "       [ 1.45654579]]), array([[-0.45277606],\n",
      "       [ 0.51991003],\n",
      "       [-1.11779516]]), array([[0.11897898],\n",
      "       [0.030806  ],\n",
      "       [1.55922007]]), array([[ 0.18077221],\n",
      "       [-0.0438073 ],\n",
      "       [ 1.51729519]]), array([[ 0.17946064],\n",
      "       [-0.04114183],\n",
      "       [ 1.51744532]]), array([[ 0.26316503],\n",
      "       [ 0.6678285 ],\n",
      "       [-1.54604892]]), array([[ 0.48195769],\n",
      "       [ 0.77294367],\n",
      "       [-1.49943635]]))\n"
     ]
    }
   ],
   "source": [
    "# 外参数矩阵——旋转向量\n",
    "print((\"外参数矩阵——旋转向量:\\n\"), rvecs)"
   ]
  },
  {
   "cell_type": "code",
   "execution_count": 28,
   "id": "fc250675",
   "metadata": {
    "ExecuteTime": {
     "end_time": "2023-07-03T10:20:35.956706Z",
     "start_time": "2023-07-03T10:20:35.945363Z"
    }
   },
   "outputs": [
    {
     "name": "stdout",
     "output_type": "stream",
     "text": [
      "外参数矩阵——平移向量:\n",
      " (array([[ 4.82761182],\n",
      "       [-2.40064501],\n",
      "       [14.84500364]]), array([[ 4.79396169],\n",
      "       [-2.40253764],\n",
      "       [14.84852681]]), array([[ 4.64589903],\n",
      "       [-2.62428665],\n",
      "       [15.76022041]]), array([[ 1.05854147],\n",
      "       [ 1.83707354],\n",
      "       [18.65098206]]), array([[ 2.0592325 ],\n",
      "       [-2.81467789],\n",
      "       [24.96442936]]), array([[ 3.37732047],\n",
      "       [-2.51366799],\n",
      "       [14.77368577]]), array([[ 3.34720008],\n",
      "       [-2.51758064],\n",
      "       [14.79643777]]), array([[ 0.61068873],\n",
      "       [ 2.21613667],\n",
      "       [18.11275775]]), array([[ 0.91073363],\n",
      "       [ 2.46818327],\n",
      "       [17.73353792]]))\n"
     ]
    }
   ],
   "source": [
    "# 外参数矩阵——平移向量\n",
    "print((\"外参数矩阵——平移向量:\\n\"), tvecs)"
   ]
  },
  {
   "cell_type": "code",
   "execution_count": 30,
   "id": "de286108",
   "metadata": {
    "ExecuteTime": {
     "end_time": "2023-07-03T12:28:30.413892Z",
     "start_time": "2023-07-03T12:28:30.398230Z"
    }
   },
   "outputs": [],
   "source": [
    "# 检验去畸变效果 (以images[0]为例)"
   ]
  },
  {
   "cell_type": "code",
   "execution_count": 29,
   "id": "a05ec4dc",
   "metadata": {
    "ExecuteTime": {
     "end_time": "2023-07-03T12:27:06.371587Z",
     "start_time": "2023-07-03T12:27:06.305668Z"
    }
   },
   "outputs": [
    {
     "data": {
      "text/plain": [
       "True"
      ]
     },
     "execution_count": 29,
     "metadata": {},
     "output_type": "execute_result"
    }
   ],
   "source": [
    "ex_img = cv2.imread(images[0])\n",
    "h, w = ex_img.shape[:2]\n",
    "# 使用cv.getOptimalNewCameraMatrix()优化内参数和畸变系数，\n",
    "# alpha = 0 : 只裁剪\n",
    "new_mtx, roi = cv2.getOptimalNewCameraMatrix(mtx, dist, (w, h), 0, (w, h)) \n",
    "\n",
    "dst = cv2.undistort(ex_img, mtx, dist, None, new_mtx)\n",
    "cv2.imwrite('bd_result/calibresult.jpg', dst)"
   ]
  },
  {
   "cell_type": "code",
   "execution_count": null,
   "id": "f7eb7543",
   "metadata": {},
   "outputs": [],
   "source": []
  }
 ],
 "metadata": {
  "kernelspec": {
   "display_name": "malning",
   "language": "python",
   "name": "malning"
  },
  "language_info": {
   "codemirror_mode": {
    "name": "ipython",
    "version": 3
   },
   "file_extension": ".py",
   "mimetype": "text/x-python",
   "name": "python",
   "nbconvert_exporter": "python",
   "pygments_lexer": "ipython3",
   "version": "3.7.0"
  }
 },
 "nbformat": 4,
 "nbformat_minor": 5
}
